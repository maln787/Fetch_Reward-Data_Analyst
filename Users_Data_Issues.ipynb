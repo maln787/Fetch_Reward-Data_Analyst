{
 "cells": [
  {
   "cell_type": "code",
   "execution_count": 1,
   "id": "88873471",
   "metadata": {},
   "outputs": [],
   "source": [
    "# importing the necessary libraries\n",
    "import pandas as pd\n",
    "import numpy as np\n",
    "from datetime import datetime"
   ]
  },
  {
   "cell_type": "code",
   "execution_count": 2,
   "id": "7eab5f77",
   "metadata": {},
   "outputs": [],
   "source": [
    "#Reading the Receipts dataset\n",
    "\n",
    "users = pd.read_json('users.json.gz',lines=True,compression='gzip')"
   ]
  },
  {
   "cell_type": "code",
   "execution_count": 3,
   "id": "fe28295c",
   "metadata": {},
   "outputs": [
    {
     "data": {
      "text/html": [
       "<div>\n",
       "<style scoped>\n",
       "    .dataframe tbody tr th:only-of-type {\n",
       "        vertical-align: middle;\n",
       "    }\n",
       "\n",
       "    .dataframe tbody tr th {\n",
       "        vertical-align: top;\n",
       "    }\n",
       "\n",
       "    .dataframe thead th {\n",
       "        text-align: right;\n",
       "    }\n",
       "</style>\n",
       "<table border=\"1\" class=\"dataframe\">\n",
       "  <thead>\n",
       "    <tr style=\"text-align: right;\">\n",
       "      <th></th>\n",
       "      <th>_id</th>\n",
       "      <th>active</th>\n",
       "      <th>createdDate</th>\n",
       "      <th>lastLogin</th>\n",
       "      <th>role</th>\n",
       "      <th>signUpSource</th>\n",
       "      <th>state</th>\n",
       "    </tr>\n",
       "  </thead>\n",
       "  <tbody>\n",
       "    <tr>\n",
       "      <th>0</th>\n",
       "      <td>{'$oid': '5ff1e194b6a9d73a3a9f1052'}</td>\n",
       "      <td>True</td>\n",
       "      <td>{'$date': 1609687444800}</td>\n",
       "      <td>{'$date': 1609687537858}</td>\n",
       "      <td>consumer</td>\n",
       "      <td>Email</td>\n",
       "      <td>WI</td>\n",
       "    </tr>\n",
       "    <tr>\n",
       "      <th>1</th>\n",
       "      <td>{'$oid': '5ff1e194b6a9d73a3a9f1052'}</td>\n",
       "      <td>True</td>\n",
       "      <td>{'$date': 1609687444800}</td>\n",
       "      <td>{'$date': 1609687537858}</td>\n",
       "      <td>consumer</td>\n",
       "      <td>Email</td>\n",
       "      <td>WI</td>\n",
       "    </tr>\n",
       "    <tr>\n",
       "      <th>2</th>\n",
       "      <td>{'$oid': '5ff1e194b6a9d73a3a9f1052'}</td>\n",
       "      <td>True</td>\n",
       "      <td>{'$date': 1609687444800}</td>\n",
       "      <td>{'$date': 1609687537858}</td>\n",
       "      <td>consumer</td>\n",
       "      <td>Email</td>\n",
       "      <td>WI</td>\n",
       "    </tr>\n",
       "    <tr>\n",
       "      <th>3</th>\n",
       "      <td>{'$oid': '5ff1e1eacfcf6c399c274ae6'}</td>\n",
       "      <td>True</td>\n",
       "      <td>{'$date': 1609687530554}</td>\n",
       "      <td>{'$date': 1609687530597}</td>\n",
       "      <td>consumer</td>\n",
       "      <td>Email</td>\n",
       "      <td>WI</td>\n",
       "    </tr>\n",
       "    <tr>\n",
       "      <th>4</th>\n",
       "      <td>{'$oid': '5ff1e194b6a9d73a3a9f1052'}</td>\n",
       "      <td>True</td>\n",
       "      <td>{'$date': 1609687444800}</td>\n",
       "      <td>{'$date': 1609687537858}</td>\n",
       "      <td>consumer</td>\n",
       "      <td>Email</td>\n",
       "      <td>WI</td>\n",
       "    </tr>\n",
       "  </tbody>\n",
       "</table>\n",
       "</div>"
      ],
      "text/plain": [
       "                                    _id  active               createdDate  \\\n",
       "0  {'$oid': '5ff1e194b6a9d73a3a9f1052'}    True  {'$date': 1609687444800}   \n",
       "1  {'$oid': '5ff1e194b6a9d73a3a9f1052'}    True  {'$date': 1609687444800}   \n",
       "2  {'$oid': '5ff1e194b6a9d73a3a9f1052'}    True  {'$date': 1609687444800}   \n",
       "3  {'$oid': '5ff1e1eacfcf6c399c274ae6'}    True  {'$date': 1609687530554}   \n",
       "4  {'$oid': '5ff1e194b6a9d73a3a9f1052'}    True  {'$date': 1609687444800}   \n",
       "\n",
       "                  lastLogin      role signUpSource state  \n",
       "0  {'$date': 1609687537858}  consumer        Email    WI  \n",
       "1  {'$date': 1609687537858}  consumer        Email    WI  \n",
       "2  {'$date': 1609687537858}  consumer        Email    WI  \n",
       "3  {'$date': 1609687530597}  consumer        Email    WI  \n",
       "4  {'$date': 1609687537858}  consumer        Email    WI  "
      ]
     },
     "execution_count": 3,
     "metadata": {},
     "output_type": "execute_result"
    }
   ],
   "source": [
    "users.head()"
   ]
  },
  {
   "cell_type": "code",
   "execution_count": 4,
   "id": "e8c2d203",
   "metadata": {},
   "outputs": [
    {
     "name": "stdout",
     "output_type": "stream",
     "text": [
      "<class 'pandas.core.frame.DataFrame'>\n",
      "RangeIndex: 495 entries, 0 to 494\n",
      "Data columns (total 7 columns):\n",
      " #   Column        Non-Null Count  Dtype \n",
      "---  ------        --------------  ----- \n",
      " 0   _id           495 non-null    object\n",
      " 1   active        495 non-null    bool  \n",
      " 2   createdDate   495 non-null    object\n",
      " 3   lastLogin     433 non-null    object\n",
      " 4   role          495 non-null    object\n",
      " 5   signUpSource  447 non-null    object\n",
      " 6   state         439 non-null    object\n",
      "dtypes: bool(1), object(6)\n",
      "memory usage: 23.8+ KB\n"
     ]
    }
   ],
   "source": [
    "users.info()"
   ]
  },
  {
   "cell_type": "markdown",
   "id": "07b0af3e",
   "metadata": {},
   "source": [
    "### In the users dataset, we notice that the columns have value in the dictionary format. In order to clean the data the first step would be to transform the columns into a readable pandas dataframe to perform operations on."
   ]
  },
  {
   "cell_type": "code",
   "execution_count": 5,
   "id": "efcf8cba",
   "metadata": {},
   "outputs": [],
   "source": [
    "users['_id'] = users['_id'].apply(lambda x: x['$oid'])"
   ]
  },
  {
   "cell_type": "code",
   "execution_count": 6,
   "id": "20afee5c",
   "metadata": {},
   "outputs": [],
   "source": [
    "users.rename(columns = {'_id' : 'user_id'}, inplace = True)"
   ]
  },
  {
   "cell_type": "code",
   "execution_count": 7,
   "id": "43a4bae6",
   "metadata": {},
   "outputs": [
    {
     "data": {
      "text/plain": [
       "1609687444800"
      ]
     },
     "execution_count": 7,
     "metadata": {},
     "output_type": "execute_result"
    }
   ],
   "source": [
    "users['createdDate'][0]['$date']"
   ]
  },
  {
   "cell_type": "code",
   "execution_count": 8,
   "id": "c0b19ed2",
   "metadata": {},
   "outputs": [],
   "source": [
    "users['createdDate'] = users['createdDate'].apply(lambda x: x['$date'])"
   ]
  },
  {
   "cell_type": "code",
   "execution_count": 9,
   "id": "8c3f204e",
   "metadata": {},
   "outputs": [],
   "source": [
    "users['createdDate'] = users['createdDate'].apply(lambda x : pd.to_datetime(datetime.fromtimestamp(x//1000).strftime('%Y-%m-%d %H:%M:%S')))"
   ]
  },
  {
   "cell_type": "code",
   "execution_count": 10,
   "id": "87fb9d49",
   "metadata": {},
   "outputs": [
    {
     "data": {
      "text/html": [
       "<div>\n",
       "<style scoped>\n",
       "    .dataframe tbody tr th:only-of-type {\n",
       "        vertical-align: middle;\n",
       "    }\n",
       "\n",
       "    .dataframe tbody tr th {\n",
       "        vertical-align: top;\n",
       "    }\n",
       "\n",
       "    .dataframe thead th {\n",
       "        text-align: right;\n",
       "    }\n",
       "</style>\n",
       "<table border=\"1\" class=\"dataframe\">\n",
       "  <thead>\n",
       "    <tr style=\"text-align: right;\">\n",
       "      <th></th>\n",
       "      <th>user_id</th>\n",
       "      <th>active</th>\n",
       "      <th>createdDate</th>\n",
       "      <th>lastLogin</th>\n",
       "      <th>role</th>\n",
       "      <th>signUpSource</th>\n",
       "      <th>state</th>\n",
       "    </tr>\n",
       "  </thead>\n",
       "  <tbody>\n",
       "    <tr>\n",
       "      <th>0</th>\n",
       "      <td>5ff1e194b6a9d73a3a9f1052</td>\n",
       "      <td>True</td>\n",
       "      <td>2021-01-03 10:24:04</td>\n",
       "      <td>{'$date': 1609687537858}</td>\n",
       "      <td>consumer</td>\n",
       "      <td>Email</td>\n",
       "      <td>WI</td>\n",
       "    </tr>\n",
       "    <tr>\n",
       "      <th>1</th>\n",
       "      <td>5ff1e194b6a9d73a3a9f1052</td>\n",
       "      <td>True</td>\n",
       "      <td>2021-01-03 10:24:04</td>\n",
       "      <td>{'$date': 1609687537858}</td>\n",
       "      <td>consumer</td>\n",
       "      <td>Email</td>\n",
       "      <td>WI</td>\n",
       "    </tr>\n",
       "    <tr>\n",
       "      <th>2</th>\n",
       "      <td>5ff1e194b6a9d73a3a9f1052</td>\n",
       "      <td>True</td>\n",
       "      <td>2021-01-03 10:24:04</td>\n",
       "      <td>{'$date': 1609687537858}</td>\n",
       "      <td>consumer</td>\n",
       "      <td>Email</td>\n",
       "      <td>WI</td>\n",
       "    </tr>\n",
       "    <tr>\n",
       "      <th>3</th>\n",
       "      <td>5ff1e1eacfcf6c399c274ae6</td>\n",
       "      <td>True</td>\n",
       "      <td>2021-01-03 10:25:30</td>\n",
       "      <td>{'$date': 1609687530597}</td>\n",
       "      <td>consumer</td>\n",
       "      <td>Email</td>\n",
       "      <td>WI</td>\n",
       "    </tr>\n",
       "    <tr>\n",
       "      <th>4</th>\n",
       "      <td>5ff1e194b6a9d73a3a9f1052</td>\n",
       "      <td>True</td>\n",
       "      <td>2021-01-03 10:24:04</td>\n",
       "      <td>{'$date': 1609687537858}</td>\n",
       "      <td>consumer</td>\n",
       "      <td>Email</td>\n",
       "      <td>WI</td>\n",
       "    </tr>\n",
       "  </tbody>\n",
       "</table>\n",
       "</div>"
      ],
      "text/plain": [
       "                    user_id  active         createdDate  \\\n",
       "0  5ff1e194b6a9d73a3a9f1052    True 2021-01-03 10:24:04   \n",
       "1  5ff1e194b6a9d73a3a9f1052    True 2021-01-03 10:24:04   \n",
       "2  5ff1e194b6a9d73a3a9f1052    True 2021-01-03 10:24:04   \n",
       "3  5ff1e1eacfcf6c399c274ae6    True 2021-01-03 10:25:30   \n",
       "4  5ff1e194b6a9d73a3a9f1052    True 2021-01-03 10:24:04   \n",
       "\n",
       "                  lastLogin      role signUpSource state  \n",
       "0  {'$date': 1609687537858}  consumer        Email    WI  \n",
       "1  {'$date': 1609687537858}  consumer        Email    WI  \n",
       "2  {'$date': 1609687537858}  consumer        Email    WI  \n",
       "3  {'$date': 1609687530597}  consumer        Email    WI  \n",
       "4  {'$date': 1609687537858}  consumer        Email    WI  "
      ]
     },
     "execution_count": 10,
     "metadata": {},
     "output_type": "execute_result"
    }
   ],
   "source": [
    "users.head()"
   ]
  },
  {
   "cell_type": "code",
   "execution_count": null,
   "id": "9608614e",
   "metadata": {},
   "outputs": [],
   "source": []
  },
  {
   "cell_type": "code",
   "execution_count": null,
   "id": "8bfd6a86",
   "metadata": {},
   "outputs": [],
   "source": []
  },
  {
   "cell_type": "markdown",
   "id": "64cc973e",
   "metadata": {},
   "source": [
    "### We cannot directly apply the date transformations on `lastLogin` before dealing with the missing values."
   ]
  },
  {
   "cell_type": "code",
   "execution_count": null,
   "id": "12ad1b19",
   "metadata": {},
   "outputs": [],
   "source": []
  },
  {
   "cell_type": "code",
   "execution_count": 11,
   "id": "477c996a",
   "metadata": {},
   "outputs": [
    {
     "data": {
      "text/html": [
       "<div>\n",
       "<style scoped>\n",
       "    .dataframe tbody tr th:only-of-type {\n",
       "        vertical-align: middle;\n",
       "    }\n",
       "\n",
       "    .dataframe tbody tr th {\n",
       "        vertical-align: top;\n",
       "    }\n",
       "\n",
       "    .dataframe thead th {\n",
       "        text-align: right;\n",
       "    }\n",
       "</style>\n",
       "<table border=\"1\" class=\"dataframe\">\n",
       "  <thead>\n",
       "    <tr style=\"text-align: right;\">\n",
       "      <th></th>\n",
       "      <th>user_id</th>\n",
       "      <th>active</th>\n",
       "      <th>createdDate</th>\n",
       "      <th>lastLogin</th>\n",
       "      <th>role</th>\n",
       "      <th>signUpSource</th>\n",
       "      <th>state</th>\n",
       "    </tr>\n",
       "  </thead>\n",
       "  <tbody>\n",
       "    <tr>\n",
       "      <th>97</th>\n",
       "      <td>5ff616a68f142f11dd189163</td>\n",
       "      <td>True</td>\n",
       "      <td>2021-01-06 14:59:34</td>\n",
       "      <td>NaN</td>\n",
       "      <td>consumer</td>\n",
       "      <td>Email</td>\n",
       "      <td>KY</td>\n",
       "    </tr>\n",
       "    <tr>\n",
       "      <th>143</th>\n",
       "      <td>5ffe115404929101d0aaebb2</td>\n",
       "      <td>True</td>\n",
       "      <td>2021-01-12 16:15:00</td>\n",
       "      <td>NaN</td>\n",
       "      <td>consumer</td>\n",
       "      <td>Email</td>\n",
       "      <td>AL</td>\n",
       "    </tr>\n",
       "    <tr>\n",
       "      <th>148</th>\n",
       "      <td>5ffe115404929101d0aaebb2</td>\n",
       "      <td>True</td>\n",
       "      <td>2021-01-12 16:15:00</td>\n",
       "      <td>NaN</td>\n",
       "      <td>consumer</td>\n",
       "      <td>Email</td>\n",
       "      <td>AL</td>\n",
       "    </tr>\n",
       "    <tr>\n",
       "      <th>170</th>\n",
       "      <td>5e27526d0bdb6a138c32b556</td>\n",
       "      <td>True</td>\n",
       "      <td>2020-01-21 14:35:09</td>\n",
       "      <td>NaN</td>\n",
       "      <td>consumer</td>\n",
       "      <td>Google</td>\n",
       "      <td>WI</td>\n",
       "    </tr>\n",
       "    <tr>\n",
       "      <th>180</th>\n",
       "      <td>6002475cfb296c121a81b98d</td>\n",
       "      <td>True</td>\n",
       "      <td>2021-01-15 20:54:36</td>\n",
       "      <td>NaN</td>\n",
       "      <td>consumer</td>\n",
       "      <td>Email</td>\n",
       "      <td>WI</td>\n",
       "    </tr>\n",
       "    <tr>\n",
       "      <th>...</th>\n",
       "      <td>...</td>\n",
       "      <td>...</td>\n",
       "      <td>...</td>\n",
       "      <td>...</td>\n",
       "      <td>...</td>\n",
       "      <td>...</td>\n",
       "      <td>...</td>\n",
       "    </tr>\n",
       "    <tr>\n",
       "      <th>381</th>\n",
       "      <td>60186237c8b50e11d8454d5f</td>\n",
       "      <td>True</td>\n",
       "      <td>2021-02-01 15:19:03</td>\n",
       "      <td>NaN</td>\n",
       "      <td>consumer</td>\n",
       "      <td>Email</td>\n",
       "      <td>NaN</td>\n",
       "    </tr>\n",
       "    <tr>\n",
       "      <th>382</th>\n",
       "      <td>60186237c8b50e11d8454d5f</td>\n",
       "      <td>True</td>\n",
       "      <td>2021-02-01 15:19:03</td>\n",
       "      <td>NaN</td>\n",
       "      <td>consumer</td>\n",
       "      <td>Email</td>\n",
       "      <td>NaN</td>\n",
       "    </tr>\n",
       "    <tr>\n",
       "      <th>389</th>\n",
       "      <td>60217fa799409b11fcf899fe</td>\n",
       "      <td>True</td>\n",
       "      <td>2021-02-08 13:15:03</td>\n",
       "      <td>NaN</td>\n",
       "      <td>consumer</td>\n",
       "      <td>Email</td>\n",
       "      <td>WI</td>\n",
       "    </tr>\n",
       "    <tr>\n",
       "      <th>420</th>\n",
       "      <td>5fb0a078be5fc9775c1f3945</td>\n",
       "      <td>True</td>\n",
       "      <td>2020-11-14 22:28:56</td>\n",
       "      <td>NaN</td>\n",
       "      <td>consumer</td>\n",
       "      <td>Google</td>\n",
       "      <td>AL</td>\n",
       "    </tr>\n",
       "    <tr>\n",
       "      <th>429</th>\n",
       "      <td>5fb0a078be5fc9775c1f3945</td>\n",
       "      <td>True</td>\n",
       "      <td>2020-11-14 22:28:56</td>\n",
       "      <td>NaN</td>\n",
       "      <td>consumer</td>\n",
       "      <td>Google</td>\n",
       "      <td>AL</td>\n",
       "    </tr>\n",
       "  </tbody>\n",
       "</table>\n",
       "<p>62 rows × 7 columns</p>\n",
       "</div>"
      ],
      "text/plain": [
       "                      user_id  active         createdDate lastLogin      role  \\\n",
       "97   5ff616a68f142f11dd189163    True 2021-01-06 14:59:34       NaN  consumer   \n",
       "143  5ffe115404929101d0aaebb2    True 2021-01-12 16:15:00       NaN  consumer   \n",
       "148  5ffe115404929101d0aaebb2    True 2021-01-12 16:15:00       NaN  consumer   \n",
       "170  5e27526d0bdb6a138c32b556    True 2020-01-21 14:35:09       NaN  consumer   \n",
       "180  6002475cfb296c121a81b98d    True 2021-01-15 20:54:36       NaN  consumer   \n",
       "..                        ...     ...                 ...       ...       ...   \n",
       "381  60186237c8b50e11d8454d5f    True 2021-02-01 15:19:03       NaN  consumer   \n",
       "382  60186237c8b50e11d8454d5f    True 2021-02-01 15:19:03       NaN  consumer   \n",
       "389  60217fa799409b11fcf899fe    True 2021-02-08 13:15:03       NaN  consumer   \n",
       "420  5fb0a078be5fc9775c1f3945    True 2020-11-14 22:28:56       NaN  consumer   \n",
       "429  5fb0a078be5fc9775c1f3945    True 2020-11-14 22:28:56       NaN  consumer   \n",
       "\n",
       "    signUpSource state  \n",
       "97         Email    KY  \n",
       "143        Email    AL  \n",
       "148        Email    AL  \n",
       "170       Google    WI  \n",
       "180        Email    WI  \n",
       "..           ...   ...  \n",
       "381        Email   NaN  \n",
       "382        Email   NaN  \n",
       "389        Email    WI  \n",
       "420       Google    AL  \n",
       "429       Google    AL  \n",
       "\n",
       "[62 rows x 7 columns]"
      ]
     },
     "execution_count": 11,
     "metadata": {},
     "output_type": "execute_result"
    }
   ],
   "source": [
    "users[users['lastLogin'].isna()]"
   ]
  },
  {
   "cell_type": "code",
   "execution_count": 12,
   "id": "54a144ad",
   "metadata": {},
   "outputs": [],
   "source": [
    "users['lastLogin'].fillna('None', inplace = True)"
   ]
  },
  {
   "cell_type": "code",
   "execution_count": 13,
   "id": "62957222",
   "metadata": {},
   "outputs": [],
   "source": [
    "users['lastLogin'] = users['lastLogin'].apply(lambda x: 'None' if x == 'None' else int(x['$date']))"
   ]
  },
  {
   "cell_type": "code",
   "execution_count": 14,
   "id": "d14f8fb7",
   "metadata": {},
   "outputs": [
    {
     "data": {
      "text/html": [
       "<div>\n",
       "<style scoped>\n",
       "    .dataframe tbody tr th:only-of-type {\n",
       "        vertical-align: middle;\n",
       "    }\n",
       "\n",
       "    .dataframe tbody tr th {\n",
       "        vertical-align: top;\n",
       "    }\n",
       "\n",
       "    .dataframe thead th {\n",
       "        text-align: right;\n",
       "    }\n",
       "</style>\n",
       "<table border=\"1\" class=\"dataframe\">\n",
       "  <thead>\n",
       "    <tr style=\"text-align: right;\">\n",
       "      <th></th>\n",
       "      <th>user_id</th>\n",
       "      <th>active</th>\n",
       "      <th>createdDate</th>\n",
       "      <th>lastLogin</th>\n",
       "      <th>role</th>\n",
       "      <th>signUpSource</th>\n",
       "      <th>state</th>\n",
       "    </tr>\n",
       "  </thead>\n",
       "  <tbody>\n",
       "    <tr>\n",
       "      <th>0</th>\n",
       "      <td>5ff1e194b6a9d73a3a9f1052</td>\n",
       "      <td>True</td>\n",
       "      <td>2021-01-03 10:24:04</td>\n",
       "      <td>1609687537858</td>\n",
       "      <td>consumer</td>\n",
       "      <td>Email</td>\n",
       "      <td>WI</td>\n",
       "    </tr>\n",
       "    <tr>\n",
       "      <th>1</th>\n",
       "      <td>5ff1e194b6a9d73a3a9f1052</td>\n",
       "      <td>True</td>\n",
       "      <td>2021-01-03 10:24:04</td>\n",
       "      <td>1609687537858</td>\n",
       "      <td>consumer</td>\n",
       "      <td>Email</td>\n",
       "      <td>WI</td>\n",
       "    </tr>\n",
       "    <tr>\n",
       "      <th>2</th>\n",
       "      <td>5ff1e194b6a9d73a3a9f1052</td>\n",
       "      <td>True</td>\n",
       "      <td>2021-01-03 10:24:04</td>\n",
       "      <td>1609687537858</td>\n",
       "      <td>consumer</td>\n",
       "      <td>Email</td>\n",
       "      <td>WI</td>\n",
       "    </tr>\n",
       "    <tr>\n",
       "      <th>3</th>\n",
       "      <td>5ff1e1eacfcf6c399c274ae6</td>\n",
       "      <td>True</td>\n",
       "      <td>2021-01-03 10:25:30</td>\n",
       "      <td>1609687530597</td>\n",
       "      <td>consumer</td>\n",
       "      <td>Email</td>\n",
       "      <td>WI</td>\n",
       "    </tr>\n",
       "    <tr>\n",
       "      <th>4</th>\n",
       "      <td>5ff1e194b6a9d73a3a9f1052</td>\n",
       "      <td>True</td>\n",
       "      <td>2021-01-03 10:24:04</td>\n",
       "      <td>1609687537858</td>\n",
       "      <td>consumer</td>\n",
       "      <td>Email</td>\n",
       "      <td>WI</td>\n",
       "    </tr>\n",
       "  </tbody>\n",
       "</table>\n",
       "</div>"
      ],
      "text/plain": [
       "                    user_id  active         createdDate      lastLogin  \\\n",
       "0  5ff1e194b6a9d73a3a9f1052    True 2021-01-03 10:24:04  1609687537858   \n",
       "1  5ff1e194b6a9d73a3a9f1052    True 2021-01-03 10:24:04  1609687537858   \n",
       "2  5ff1e194b6a9d73a3a9f1052    True 2021-01-03 10:24:04  1609687537858   \n",
       "3  5ff1e1eacfcf6c399c274ae6    True 2021-01-03 10:25:30  1609687530597   \n",
       "4  5ff1e194b6a9d73a3a9f1052    True 2021-01-03 10:24:04  1609687537858   \n",
       "\n",
       "       role signUpSource state  \n",
       "0  consumer        Email    WI  \n",
       "1  consumer        Email    WI  \n",
       "2  consumer        Email    WI  \n",
       "3  consumer        Email    WI  \n",
       "4  consumer        Email    WI  "
      ]
     },
     "execution_count": 14,
     "metadata": {},
     "output_type": "execute_result"
    }
   ],
   "source": [
    "users.head()"
   ]
  },
  {
   "cell_type": "code",
   "execution_count": 15,
   "id": "9ad287c3",
   "metadata": {},
   "outputs": [],
   "source": [
    "users['lastLogin'] = users['lastLogin'].apply(lambda x : 'None' if x == 'None' else pd.to_datetime(datetime.fromtimestamp(x//1000).strftime('%Y-%m-%d %H:%M:%S')))"
   ]
  },
  {
   "cell_type": "code",
   "execution_count": null,
   "id": "821506aa",
   "metadata": {},
   "outputs": [],
   "source": []
  },
  {
   "cell_type": "code",
   "execution_count": 16,
   "id": "3a75e56c",
   "metadata": {},
   "outputs": [
    {
     "data": {
      "text/html": [
       "<div>\n",
       "<style scoped>\n",
       "    .dataframe tbody tr th:only-of-type {\n",
       "        vertical-align: middle;\n",
       "    }\n",
       "\n",
       "    .dataframe tbody tr th {\n",
       "        vertical-align: top;\n",
       "    }\n",
       "\n",
       "    .dataframe thead th {\n",
       "        text-align: right;\n",
       "    }\n",
       "</style>\n",
       "<table border=\"1\" class=\"dataframe\">\n",
       "  <thead>\n",
       "    <tr style=\"text-align: right;\">\n",
       "      <th></th>\n",
       "      <th>user_id</th>\n",
       "      <th>active</th>\n",
       "      <th>createdDate</th>\n",
       "      <th>lastLogin</th>\n",
       "      <th>role</th>\n",
       "      <th>signUpSource</th>\n",
       "      <th>state</th>\n",
       "    </tr>\n",
       "  </thead>\n",
       "  <tbody>\n",
       "    <tr>\n",
       "      <th>0</th>\n",
       "      <td>5ff1e194b6a9d73a3a9f1052</td>\n",
       "      <td>True</td>\n",
       "      <td>2021-01-03 10:24:04</td>\n",
       "      <td>2021-01-03 10:25:37</td>\n",
       "      <td>consumer</td>\n",
       "      <td>Email</td>\n",
       "      <td>WI</td>\n",
       "    </tr>\n",
       "    <tr>\n",
       "      <th>1</th>\n",
       "      <td>5ff1e194b6a9d73a3a9f1052</td>\n",
       "      <td>True</td>\n",
       "      <td>2021-01-03 10:24:04</td>\n",
       "      <td>2021-01-03 10:25:37</td>\n",
       "      <td>consumer</td>\n",
       "      <td>Email</td>\n",
       "      <td>WI</td>\n",
       "    </tr>\n",
       "    <tr>\n",
       "      <th>2</th>\n",
       "      <td>5ff1e194b6a9d73a3a9f1052</td>\n",
       "      <td>True</td>\n",
       "      <td>2021-01-03 10:24:04</td>\n",
       "      <td>2021-01-03 10:25:37</td>\n",
       "      <td>consumer</td>\n",
       "      <td>Email</td>\n",
       "      <td>WI</td>\n",
       "    </tr>\n",
       "    <tr>\n",
       "      <th>3</th>\n",
       "      <td>5ff1e1eacfcf6c399c274ae6</td>\n",
       "      <td>True</td>\n",
       "      <td>2021-01-03 10:25:30</td>\n",
       "      <td>2021-01-03 10:25:30</td>\n",
       "      <td>consumer</td>\n",
       "      <td>Email</td>\n",
       "      <td>WI</td>\n",
       "    </tr>\n",
       "    <tr>\n",
       "      <th>4</th>\n",
       "      <td>5ff1e194b6a9d73a3a9f1052</td>\n",
       "      <td>True</td>\n",
       "      <td>2021-01-03 10:24:04</td>\n",
       "      <td>2021-01-03 10:25:37</td>\n",
       "      <td>consumer</td>\n",
       "      <td>Email</td>\n",
       "      <td>WI</td>\n",
       "    </tr>\n",
       "  </tbody>\n",
       "</table>\n",
       "</div>"
      ],
      "text/plain": [
       "                    user_id  active         createdDate            lastLogin  \\\n",
       "0  5ff1e194b6a9d73a3a9f1052    True 2021-01-03 10:24:04  2021-01-03 10:25:37   \n",
       "1  5ff1e194b6a9d73a3a9f1052    True 2021-01-03 10:24:04  2021-01-03 10:25:37   \n",
       "2  5ff1e194b6a9d73a3a9f1052    True 2021-01-03 10:24:04  2021-01-03 10:25:37   \n",
       "3  5ff1e1eacfcf6c399c274ae6    True 2021-01-03 10:25:30  2021-01-03 10:25:30   \n",
       "4  5ff1e194b6a9d73a3a9f1052    True 2021-01-03 10:24:04  2021-01-03 10:25:37   \n",
       "\n",
       "       role signUpSource state  \n",
       "0  consumer        Email    WI  \n",
       "1  consumer        Email    WI  \n",
       "2  consumer        Email    WI  \n",
       "3  consumer        Email    WI  \n",
       "4  consumer        Email    WI  "
      ]
     },
     "execution_count": 16,
     "metadata": {},
     "output_type": "execute_result"
    }
   ],
   "source": [
    "users.head()"
   ]
  },
  {
   "cell_type": "code",
   "execution_count": 17,
   "id": "9d9d0073",
   "metadata": {},
   "outputs": [
    {
     "name": "stdout",
     "output_type": "stream",
     "text": [
      "<class 'pandas.core.frame.DataFrame'>\n",
      "RangeIndex: 495 entries, 0 to 494\n",
      "Data columns (total 7 columns):\n",
      " #   Column        Non-Null Count  Dtype         \n",
      "---  ------        --------------  -----         \n",
      " 0   user_id       495 non-null    object        \n",
      " 1   active        495 non-null    bool          \n",
      " 2   createdDate   495 non-null    datetime64[ns]\n",
      " 3   lastLogin     495 non-null    object        \n",
      " 4   role          495 non-null    object        \n",
      " 5   signUpSource  447 non-null    object        \n",
      " 6   state         439 non-null    object        \n",
      "dtypes: bool(1), datetime64[ns](1), object(5)\n",
      "memory usage: 23.8+ KB\n"
     ]
    }
   ],
   "source": [
    "users.info()"
   ]
  },
  {
   "cell_type": "markdown",
   "id": "65de6dd2",
   "metadata": {},
   "source": [
    "### Checking for duplicate rows"
   ]
  },
  {
   "cell_type": "code",
   "execution_count": 18,
   "id": "7b2bf99c",
   "metadata": {},
   "outputs": [
    {
     "data": {
      "text/html": [
       "<div>\n",
       "<style scoped>\n",
       "    .dataframe tbody tr th:only-of-type {\n",
       "        vertical-align: middle;\n",
       "    }\n",
       "\n",
       "    .dataframe tbody tr th {\n",
       "        vertical-align: top;\n",
       "    }\n",
       "\n",
       "    .dataframe thead th {\n",
       "        text-align: right;\n",
       "    }\n",
       "</style>\n",
       "<table border=\"1\" class=\"dataframe\">\n",
       "  <thead>\n",
       "    <tr style=\"text-align: right;\">\n",
       "      <th></th>\n",
       "      <th>user_id</th>\n",
       "      <th>active</th>\n",
       "      <th>createdDate</th>\n",
       "      <th>lastLogin</th>\n",
       "      <th>role</th>\n",
       "      <th>signUpSource</th>\n",
       "      <th>state</th>\n",
       "    </tr>\n",
       "  </thead>\n",
       "  <tbody>\n",
       "    <tr>\n",
       "      <th>1</th>\n",
       "      <td>5ff1e194b6a9d73a3a9f1052</td>\n",
       "      <td>True</td>\n",
       "      <td>2021-01-03 10:24:04</td>\n",
       "      <td>2021-01-03 10:25:37</td>\n",
       "      <td>consumer</td>\n",
       "      <td>Email</td>\n",
       "      <td>WI</td>\n",
       "    </tr>\n",
       "    <tr>\n",
       "      <th>2</th>\n",
       "      <td>5ff1e194b6a9d73a3a9f1052</td>\n",
       "      <td>True</td>\n",
       "      <td>2021-01-03 10:24:04</td>\n",
       "      <td>2021-01-03 10:25:37</td>\n",
       "      <td>consumer</td>\n",
       "      <td>Email</td>\n",
       "      <td>WI</td>\n",
       "    </tr>\n",
       "    <tr>\n",
       "      <th>4</th>\n",
       "      <td>5ff1e194b6a9d73a3a9f1052</td>\n",
       "      <td>True</td>\n",
       "      <td>2021-01-03 10:24:04</td>\n",
       "      <td>2021-01-03 10:25:37</td>\n",
       "      <td>consumer</td>\n",
       "      <td>Email</td>\n",
       "      <td>WI</td>\n",
       "    </tr>\n",
       "    <tr>\n",
       "      <th>5</th>\n",
       "      <td>5ff1e194b6a9d73a3a9f1052</td>\n",
       "      <td>True</td>\n",
       "      <td>2021-01-03 10:24:04</td>\n",
       "      <td>2021-01-03 10:25:37</td>\n",
       "      <td>consumer</td>\n",
       "      <td>Email</td>\n",
       "      <td>WI</td>\n",
       "    </tr>\n",
       "    <tr>\n",
       "      <th>8</th>\n",
       "      <td>5ff1e194b6a9d73a3a9f1052</td>\n",
       "      <td>True</td>\n",
       "      <td>2021-01-03 10:24:04</td>\n",
       "      <td>2021-01-03 10:25:37</td>\n",
       "      <td>consumer</td>\n",
       "      <td>Email</td>\n",
       "      <td>WI</td>\n",
       "    </tr>\n",
       "    <tr>\n",
       "      <th>...</th>\n",
       "      <td>...</td>\n",
       "      <td>...</td>\n",
       "      <td>...</td>\n",
       "      <td>...</td>\n",
       "      <td>...</td>\n",
       "      <td>...</td>\n",
       "      <td>...</td>\n",
       "    </tr>\n",
       "    <tr>\n",
       "      <th>490</th>\n",
       "      <td>54943462e4b07e684157a532</td>\n",
       "      <td>True</td>\n",
       "      <td>2014-12-19 09:21:22</td>\n",
       "      <td>2021-03-05 11:52:23</td>\n",
       "      <td>fetch-staff</td>\n",
       "      <td>NaN</td>\n",
       "      <td>NaN</td>\n",
       "    </tr>\n",
       "    <tr>\n",
       "      <th>491</th>\n",
       "      <td>54943462e4b07e684157a532</td>\n",
       "      <td>True</td>\n",
       "      <td>2014-12-19 09:21:22</td>\n",
       "      <td>2021-03-05 11:52:23</td>\n",
       "      <td>fetch-staff</td>\n",
       "      <td>NaN</td>\n",
       "      <td>NaN</td>\n",
       "    </tr>\n",
       "    <tr>\n",
       "      <th>492</th>\n",
       "      <td>54943462e4b07e684157a532</td>\n",
       "      <td>True</td>\n",
       "      <td>2014-12-19 09:21:22</td>\n",
       "      <td>2021-03-05 11:52:23</td>\n",
       "      <td>fetch-staff</td>\n",
       "      <td>NaN</td>\n",
       "      <td>NaN</td>\n",
       "    </tr>\n",
       "    <tr>\n",
       "      <th>493</th>\n",
       "      <td>54943462e4b07e684157a532</td>\n",
       "      <td>True</td>\n",
       "      <td>2014-12-19 09:21:22</td>\n",
       "      <td>2021-03-05 11:52:23</td>\n",
       "      <td>fetch-staff</td>\n",
       "      <td>NaN</td>\n",
       "      <td>NaN</td>\n",
       "    </tr>\n",
       "    <tr>\n",
       "      <th>494</th>\n",
       "      <td>54943462e4b07e684157a532</td>\n",
       "      <td>True</td>\n",
       "      <td>2014-12-19 09:21:22</td>\n",
       "      <td>2021-03-05 11:52:23</td>\n",
       "      <td>fetch-staff</td>\n",
       "      <td>NaN</td>\n",
       "      <td>NaN</td>\n",
       "    </tr>\n",
       "  </tbody>\n",
       "</table>\n",
       "<p>283 rows × 7 columns</p>\n",
       "</div>"
      ],
      "text/plain": [
       "                      user_id  active         createdDate  \\\n",
       "1    5ff1e194b6a9d73a3a9f1052    True 2021-01-03 10:24:04   \n",
       "2    5ff1e194b6a9d73a3a9f1052    True 2021-01-03 10:24:04   \n",
       "4    5ff1e194b6a9d73a3a9f1052    True 2021-01-03 10:24:04   \n",
       "5    5ff1e194b6a9d73a3a9f1052    True 2021-01-03 10:24:04   \n",
       "8    5ff1e194b6a9d73a3a9f1052    True 2021-01-03 10:24:04   \n",
       "..                        ...     ...                 ...   \n",
       "490  54943462e4b07e684157a532    True 2014-12-19 09:21:22   \n",
       "491  54943462e4b07e684157a532    True 2014-12-19 09:21:22   \n",
       "492  54943462e4b07e684157a532    True 2014-12-19 09:21:22   \n",
       "493  54943462e4b07e684157a532    True 2014-12-19 09:21:22   \n",
       "494  54943462e4b07e684157a532    True 2014-12-19 09:21:22   \n",
       "\n",
       "               lastLogin         role signUpSource state  \n",
       "1    2021-01-03 10:25:37     consumer        Email    WI  \n",
       "2    2021-01-03 10:25:37     consumer        Email    WI  \n",
       "4    2021-01-03 10:25:37     consumer        Email    WI  \n",
       "5    2021-01-03 10:25:37     consumer        Email    WI  \n",
       "8    2021-01-03 10:25:37     consumer        Email    WI  \n",
       "..                   ...          ...          ...   ...  \n",
       "490  2021-03-05 11:52:23  fetch-staff          NaN   NaN  \n",
       "491  2021-03-05 11:52:23  fetch-staff          NaN   NaN  \n",
       "492  2021-03-05 11:52:23  fetch-staff          NaN   NaN  \n",
       "493  2021-03-05 11:52:23  fetch-staff          NaN   NaN  \n",
       "494  2021-03-05 11:52:23  fetch-staff          NaN   NaN  \n",
       "\n",
       "[283 rows x 7 columns]"
      ]
     },
     "execution_count": 18,
     "metadata": {},
     "output_type": "execute_result"
    }
   ],
   "source": [
    "users[users.duplicated()]"
   ]
  },
  {
   "cell_type": "markdown",
   "id": "2551f5f0",
   "metadata": {},
   "source": [
    "### Almost half of the data consists of duplicate row of values. Henceforth, dropping the duplicate rows."
   ]
  },
  {
   "cell_type": "code",
   "execution_count": 19,
   "id": "c20e06d6",
   "metadata": {},
   "outputs": [],
   "source": [
    "users = users.drop_duplicates()"
   ]
  },
  {
   "cell_type": "markdown",
   "id": "0135ae3e",
   "metadata": {},
   "source": [
    "### Looking for ways to handle missing values."
   ]
  },
  {
   "cell_type": "code",
   "execution_count": 20,
   "id": "cbcb633b",
   "metadata": {},
   "outputs": [],
   "source": [
    "users = users.copy()"
   ]
  },
  {
   "cell_type": "code",
   "execution_count": 21,
   "id": "44c82bf3",
   "metadata": {},
   "outputs": [
    {
     "data": {
      "text/plain": [
       "Email     204\n",
       "Google      3\n",
       "Name: signUpSource, dtype: int64"
      ]
     },
     "execution_count": 21,
     "metadata": {},
     "output_type": "execute_result"
    }
   ],
   "source": [
    "users['signUpSource'].value_counts()"
   ]
  },
  {
   "cell_type": "code",
   "execution_count": 22,
   "id": "5a483a2f",
   "metadata": {},
   "outputs": [
    {
     "data": {
      "text/plain": [
       "WI    193\n",
       "AL      5\n",
       "IL      3\n",
       "KY      1\n",
       "CO      1\n",
       "OH      1\n",
       "SC      1\n",
       "NH      1\n",
       "Name: state, dtype: int64"
      ]
     },
     "execution_count": 22,
     "metadata": {},
     "output_type": "execute_result"
    }
   ],
   "source": [
    "users['state'].value_counts()"
   ]
  },
  {
   "cell_type": "code",
   "execution_count": 23,
   "id": "6d9d4b92",
   "metadata": {},
   "outputs": [
    {
     "data": {
      "text/plain": [
       "consumer       204\n",
       "fetch-staff      8\n",
       "Name: role, dtype: int64"
      ]
     },
     "execution_count": 23,
     "metadata": {},
     "output_type": "execute_result"
    }
   ],
   "source": [
    "users['role'].value_counts()"
   ]
  },
  {
   "cell_type": "code",
   "execution_count": 24,
   "id": "c71e3f1e",
   "metadata": {},
   "outputs": [
    {
     "data": {
      "text/plain": [
       "role         state\n",
       "consumer     WI       191\n",
       "             AL         4\n",
       "             IL         2\n",
       "fetch-staff  WI         2\n",
       "consumer     CO         1\n",
       "             KY         1\n",
       "             OH         1\n",
       "             SC         1\n",
       "fetch-staff  AL         1\n",
       "             IL         1\n",
       "             NH         1\n",
       "dtype: int64"
      ]
     },
     "execution_count": 24,
     "metadata": {},
     "output_type": "execute_result"
    }
   ],
   "source": [
    "users[['role','state']].value_counts()"
   ]
  },
  {
   "cell_type": "code",
   "execution_count": 25,
   "id": "cffc1c5e",
   "metadata": {},
   "outputs": [
    {
     "data": {
      "text/plain": [
       "344       consumer\n",
       "375       consumer\n",
       "422       consumer\n",
       "432    fetch-staff\n",
       "455    fetch-staff\n",
       "475    fetch-staff\n",
       "Name: role, dtype: object"
      ]
     },
     "execution_count": 25,
     "metadata": {},
     "output_type": "execute_result"
    }
   ],
   "source": [
    "users[users['state'].isna()]['role']"
   ]
  },
  {
   "cell_type": "code",
   "execution_count": null,
   "id": "75905058",
   "metadata": {},
   "outputs": [],
   "source": []
  },
  {
   "cell_type": "code",
   "execution_count": null,
   "id": "9f1cfafa",
   "metadata": {},
   "outputs": [],
   "source": []
  },
  {
   "cell_type": "code",
   "execution_count": null,
   "id": "0b12a3b5",
   "metadata": {},
   "outputs": [],
   "source": []
  },
  {
   "cell_type": "code",
   "execution_count": 26,
   "id": "0243dc2a",
   "metadata": {},
   "outputs": [
    {
     "name": "stdout",
     "output_type": "stream",
     "text": [
      "<class 'pandas.core.frame.DataFrame'>\n",
      "Int64Index: 212 entries, 0 to 475\n",
      "Data columns (total 7 columns):\n",
      " #   Column        Non-Null Count  Dtype         \n",
      "---  ------        --------------  -----         \n",
      " 0   user_id       212 non-null    object        \n",
      " 1   active        212 non-null    bool          \n",
      " 2   createdDate   212 non-null    datetime64[ns]\n",
      " 3   lastLogin     212 non-null    object        \n",
      " 4   role          212 non-null    object        \n",
      " 5   signUpSource  207 non-null    object        \n",
      " 6   state         206 non-null    object        \n",
      "dtypes: bool(1), datetime64[ns](1), object(5)\n",
      "memory usage: 11.8+ KB\n"
     ]
    }
   ],
   "source": [
    "users.info()"
   ]
  },
  {
   "cell_type": "code",
   "execution_count": 27,
   "id": "9125bf24",
   "metadata": {},
   "outputs": [
    {
     "data": {
      "text/plain": [
       "user_id         40\n",
       "active          40\n",
       "createdDate     40\n",
       "lastLogin       40\n",
       "role            40\n",
       "signUpSource    40\n",
       "state           38\n",
       "dtype: int64"
      ]
     },
     "execution_count": 27,
     "metadata": {},
     "output_type": "execute_result"
    }
   ],
   "source": [
    "users[users['lastLogin']=='None'].count()"
   ]
  },
  {
   "cell_type": "code",
   "execution_count": 28,
   "id": "7fedcbd0",
   "metadata": {},
   "outputs": [],
   "source": [
    "users_lastlogin = users[users['lastLogin'] != 'None']"
   ]
  },
  {
   "cell_type": "code",
   "execution_count": 29,
   "id": "2fb3b8b4",
   "metadata": {},
   "outputs": [
    {
     "name": "stderr",
     "output_type": "stream",
     "text": [
      "/var/folders/dl/zfkvqms549vchyzbsj30cgbw0000gn/T/ipykernel_88610/2392924349.py:1: SettingWithCopyWarning: \n",
      "A value is trying to be set on a copy of a slice from a DataFrame.\n",
      "Try using .loc[row_indexer,col_indexer] = value instead\n",
      "\n",
      "See the caveats in the documentation: https://pandas.pydata.org/pandas-docs/stable/user_guide/indexing.html#returning-a-view-versus-a-copy\n",
      "  users_lastlogin['lastLogin'] = pd.to_datetime(users_lastlogin['lastLogin'])\n"
     ]
    }
   ],
   "source": [
    "users_lastlogin['lastLogin'] = pd.to_datetime(users_lastlogin['lastLogin'])"
   ]
  },
  {
   "cell_type": "code",
   "execution_count": 30,
   "id": "bbc98341",
   "metadata": {},
   "outputs": [
    {
     "data": {
      "text/plain": [
       "0        0 days 00:01:33\n",
       "3        0 days 00:00:00\n",
       "6        0 days 00:00:00\n",
       "7        0 days 00:00:00\n",
       "9        0 days 00:00:00\n",
       "             ...        \n",
       "435     85 days 00:31:13\n",
       "455    119 days 00:44:53\n",
       "456    119 days 08:52:25\n",
       "462   1332 days 02:54:38\n",
       "475   2268 days 02:31:01\n",
       "Length: 172, dtype: timedelta64[ns]"
      ]
     },
     "execution_count": 30,
     "metadata": {},
     "output_type": "execute_result"
    }
   ],
   "source": [
    "users_lastlogin['lastLogin'] - users_lastlogin['createdDate']"
   ]
  },
  {
   "cell_type": "code",
   "execution_count": 31,
   "id": "93b7811c",
   "metadata": {},
   "outputs": [],
   "source": [
    "users_lastlogin_nan = users[users['lastLogin'] == 'None']"
   ]
  },
  {
   "cell_type": "code",
   "execution_count": 32,
   "id": "55b43b01",
   "metadata": {},
   "outputs": [
    {
     "data": {
      "text/plain": [
       "True    40\n",
       "Name: active, dtype: int64"
      ]
     },
     "execution_count": 32,
     "metadata": {},
     "output_type": "execute_result"
    }
   ],
   "source": [
    "users_lastlogin_nan['active'].value_counts()"
   ]
  },
  {
   "cell_type": "code",
   "execution_count": 33,
   "id": "a3df5e81",
   "metadata": {},
   "outputs": [
    {
     "data": {
      "text/plain": [
       "True     171\n",
       "False      1\n",
       "Name: active, dtype: int64"
      ]
     },
     "execution_count": 33,
     "metadata": {},
     "output_type": "execute_result"
    }
   ],
   "source": [
    "users_lastlogin['active'].value_counts()"
   ]
  },
  {
   "cell_type": "code",
   "execution_count": null,
   "id": "5bc5d85f",
   "metadata": {},
   "outputs": [],
   "source": []
  },
  {
   "cell_type": "code",
   "execution_count": 34,
   "id": "b20d2569",
   "metadata": {},
   "outputs": [],
   "source": [
    "users.to_csv('users_final.csv')"
   ]
  },
  {
   "cell_type": "code",
   "execution_count": null,
   "id": "add0e4a9",
   "metadata": {},
   "outputs": [],
   "source": []
  }
 ],
 "metadata": {
  "kernelspec": {
   "display_name": "Python 3 (ipykernel)",
   "language": "python",
   "name": "python3"
  },
  "language_info": {
   "codemirror_mode": {
    "name": "ipython",
    "version": 3
   },
   "file_extension": ".py",
   "mimetype": "text/x-python",
   "name": "python",
   "nbconvert_exporter": "python",
   "pygments_lexer": "ipython3",
   "version": "3.8.13"
  }
 },
 "nbformat": 4,
 "nbformat_minor": 5
}
